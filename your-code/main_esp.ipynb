{
 "cells": [
  {
   "cell_type": "markdown",
   "metadata": {},
   "source": [
    "# Antes de empezar:\n",
    "- Lee el archivo README.md\n",
    "- Comenta tanto como puedas y utiliza los recursos (archivo README.md)\n",
    "- ¡Feliz aprendizaje!"
   ]
  },
  {
   "cell_type": "code",
   "execution_count": 48,
   "metadata": {},
   "outputs": [],
   "source": [
    "# import numpy and pandas\n",
    "import pandas as pd\n",
    "import numpy as np\n",
    "from scipy.stats import trim_mean, mode, skew, gaussian_kde, pearsonr, spearmanr, beta\n",
    "from statsmodels.stats.weightstats import ztest as ztest\n",
    "from statsmodels.stats.proportion import proportions_ztest\n",
    "\n",
    "from scipy.stats import ttest_ind, norm, t, ttest_1samp\n",
    "from scipy.stats import f_oneway\n",
    "from scipy.stats import sem"
   ]
  },
  {
   "cell_type": "markdown",
   "metadata": {},
   "source": [
    "# Reto 1 - Explorando los Datos\n",
    "\n",
    "En este reto, examinaremos todos los salarios de los empleados de la Ciudad de Chicago. Comenzaremos cargando el conjunto de datos y examinando su contenido."
   ]
  },
  {
   "cell_type": "code",
   "execution_count": 49,
   "metadata": {},
   "outputs": [],
   "source": [
    "# Run this code:\n",
    "salaries = pd.read_csv('../data/Current_Employee_Names__Salaries__and_Position_Titles.csv')"
   ]
  },
  {
   "cell_type": "markdown",
   "metadata": {},
   "source": [
    "Examina el conjunto de datos `salaries` utilizando la función `head` que se muestra a continuación."
   ]
  },
  {
   "cell_type": "code",
   "execution_count": 50,
   "metadata": {},
   "outputs": [
    {
     "data": {
      "text/html": [
       "<div>\n",
       "<style scoped>\n",
       "    .dataframe tbody tr th:only-of-type {\n",
       "        vertical-align: middle;\n",
       "    }\n",
       "\n",
       "    .dataframe tbody tr th {\n",
       "        vertical-align: top;\n",
       "    }\n",
       "\n",
       "    .dataframe thead th {\n",
       "        text-align: right;\n",
       "    }\n",
       "</style>\n",
       "<table border=\"1\" class=\"dataframe\">\n",
       "  <thead>\n",
       "    <tr style=\"text-align: right;\">\n",
       "      <th></th>\n",
       "      <th>Name</th>\n",
       "      <th>Job Titles</th>\n",
       "      <th>Department</th>\n",
       "      <th>Full or Part-Time</th>\n",
       "      <th>Salary or Hourly</th>\n",
       "      <th>Typical Hours</th>\n",
       "      <th>Annual Salary</th>\n",
       "      <th>Hourly Rate</th>\n",
       "    </tr>\n",
       "  </thead>\n",
       "  <tbody>\n",
       "    <tr>\n",
       "      <th>0</th>\n",
       "      <td>AARON,  JEFFERY M</td>\n",
       "      <td>SERGEANT</td>\n",
       "      <td>POLICE</td>\n",
       "      <td>F</td>\n",
       "      <td>Salary</td>\n",
       "      <td>NaN</td>\n",
       "      <td>101442.0</td>\n",
       "      <td>NaN</td>\n",
       "    </tr>\n",
       "    <tr>\n",
       "      <th>1</th>\n",
       "      <td>AARON,  KARINA</td>\n",
       "      <td>POLICE OFFICER (ASSIGNED AS DETECTIVE)</td>\n",
       "      <td>POLICE</td>\n",
       "      <td>F</td>\n",
       "      <td>Salary</td>\n",
       "      <td>NaN</td>\n",
       "      <td>94122.0</td>\n",
       "      <td>NaN</td>\n",
       "    </tr>\n",
       "    <tr>\n",
       "      <th>2</th>\n",
       "      <td>AARON,  KIMBERLEI R</td>\n",
       "      <td>CHIEF CONTRACT EXPEDITER</td>\n",
       "      <td>GENERAL SERVICES</td>\n",
       "      <td>F</td>\n",
       "      <td>Salary</td>\n",
       "      <td>NaN</td>\n",
       "      <td>101592.0</td>\n",
       "      <td>NaN</td>\n",
       "    </tr>\n",
       "    <tr>\n",
       "      <th>3</th>\n",
       "      <td>ABAD JR,  VICENTE M</td>\n",
       "      <td>CIVIL ENGINEER IV</td>\n",
       "      <td>WATER MGMNT</td>\n",
       "      <td>F</td>\n",
       "      <td>Salary</td>\n",
       "      <td>NaN</td>\n",
       "      <td>110064.0</td>\n",
       "      <td>NaN</td>\n",
       "    </tr>\n",
       "    <tr>\n",
       "      <th>4</th>\n",
       "      <td>ABASCAL,  REECE E</td>\n",
       "      <td>TRAFFIC CONTROL AIDE-HOURLY</td>\n",
       "      <td>OEMC</td>\n",
       "      <td>P</td>\n",
       "      <td>Hourly</td>\n",
       "      <td>20.0</td>\n",
       "      <td>NaN</td>\n",
       "      <td>19.86</td>\n",
       "    </tr>\n",
       "  </tbody>\n",
       "</table>\n",
       "</div>"
      ],
      "text/plain": [
       "                  Name                              Job Titles  \\\n",
       "0    AARON,  JEFFERY M                                SERGEANT   \n",
       "1      AARON,  KARINA   POLICE OFFICER (ASSIGNED AS DETECTIVE)   \n",
       "2  AARON,  KIMBERLEI R                CHIEF CONTRACT EXPEDITER   \n",
       "3  ABAD JR,  VICENTE M                       CIVIL ENGINEER IV   \n",
       "4    ABASCAL,  REECE E             TRAFFIC CONTROL AIDE-HOURLY   \n",
       "\n",
       "         Department Full or Part-Time Salary or Hourly  Typical Hours  \\\n",
       "0            POLICE                 F           Salary            NaN   \n",
       "1            POLICE                 F           Salary            NaN   \n",
       "2  GENERAL SERVICES                 F           Salary            NaN   \n",
       "3       WATER MGMNT                 F           Salary            NaN   \n",
       "4              OEMC                 P           Hourly           20.0   \n",
       "\n",
       "   Annual Salary  Hourly Rate  \n",
       "0       101442.0          NaN  \n",
       "1        94122.0          NaN  \n",
       "2       101592.0          NaN  \n",
       "3       110064.0          NaN  \n",
       "4            NaN        19.86  "
      ]
     },
     "execution_count": 50,
     "metadata": {},
     "output_type": "execute_result"
    }
   ],
   "source": [
    "salaries.head()"
   ]
  },
  {
   "cell_type": "markdown",
   "metadata": {},
   "source": [
    "# Reto 2 - Pruebas de Hipótesis\n",
    "\n",
    "En esta sección del laboratorio, vamos a probar si el salario por hora de todos los trabajadores por hora es significativamente diferente de $30/hora. Importa la función correcta para la prueba de una muestra desde scipy y realiza la prueba de hipótesis para un intervalo de confianza de dos lados del 95%."
   ]
  },
  {
   "cell_type": "markdown",
   "metadata": {},
   "source": [
    "* Hipotesis: El salario por hora medio es significativamente diferente de $30/hora.\n",
    "* Hipotesis nula: El salario por hora medio no es significativamente diferente de $30/hora."
   ]
  },
  {
   "cell_type": "code",
   "execution_count": 51,
   "metadata": {},
   "outputs": [
    {
     "name": "stdout",
     "output_type": "stream",
     "text": [
      "T estadística: 20.6198057854942\n",
      "Valor P: 4.3230240486229894e-92\n",
      "Se rechaza la hipótesis nula <> el salario por hora es significativamente diferente de $30/hora.\n"
     ]
    }
   ],
   "source": [
    "# Crear un dataframe quitando los valores NaN y dejando solo los salarios por hora\n",
    "salarios_por_hora = salaries.loc[salaries['Salary or Hourly'] == 'Hourly', 'Hourly Rate'].dropna().values\n",
    "\n",
    "# Valor hipotético de la media de la hipotesis nula\n",
    "media_hipotetica = 30\n",
    "\n",
    "# test de hipótesis\n",
    "t_statistic, p_value = ttest_1samp(salarios_por_hora, media_hipotetica)\n",
    "\n",
    "# Mostrar los resultados\n",
    "print(f\"T estadística: {t_statistic}\")\n",
    "print(f\"Valor P: {p_value}\")\n",
    "\n",
    "if p_value < 0.05:\n",
    "    print(\"Se rechaza la hipótesis nula <> el salario por hora es significativamente diferente de $30/hora.\")\n",
    "else:\n",
    "    print(\"No se rechaza la hipótesis nula <> no hay suficiente evidencia para afirmar que el salario por hora es diferente de $30/hora.\")"
   ]
  },
  {
   "cell_type": "markdown",
   "metadata": {},
   "source": [
    "# Reto 3 - Construyendo Intervalos de Confianza\n",
    "\n",
    "Aunque probar nuestra hipótesis es una excelente manera de obtener evidencia empírica para aceptar o rechazar la hipótesis, otra forma de recopilar evidencia es creando un intervalo de confianza. Un intervalo de confianza nos brinda información sobre la media verdadera de la población. Por lo tanto, para un intervalo de confianza del 95%, estamos seguros en un 95% de que la media de la población se encuentra dentro del intervalo de confianza.\n",
    "\n",
    "Para leer más sobre los intervalos de confianza, haz clic [aquí](https://es.wikipedia.org/wiki/Intervalo_de_confianza).\n",
    "\n",
    "En la celda a continuación, construiremos un intervalo de confianza del 95% para el salario por hora medio de todos los trabajadores por hora.\n",
    "\n",
    "El intervalo de confianza se calcula en SciPy utilizando la función `t.interval`. Puedes leer más sobre esta función [aquí](https://docs.scipy.org/doc/scipy-0.14.0/reference/generated/scipy.stats.t.html).\n",
    "\n",
    "Para calcular el intervalo de confianza del salario por hora, usa 0.95 para el nivel de confianza, el número de filas - 1 para los grados de libertad, la media de la muestra para el parámetro de ubicación y el error estándar para la escala. El error estándar se puede calcular utilizando [esta](https://docs.scipy.org/doc/scipy/reference/generated/scipy.stats.sem.html) función en SciPy."
   ]
  },
  {
   "cell_type": "code",
   "execution_count": 52,
   "metadata": {},
   "outputs": [
    {
     "name": "stdout",
     "output_type": "stream",
     "text": [
      "Intervalo de confianza del 95.0% para el salario por hora medio: (32.52345834488425, 33.05365708767623)\n"
     ]
    }
   ],
   "source": [
    "# Calcular la media de la muestra\n",
    "media_muestra = np.mean(salarios_por_hora)\n",
    "\n",
    "# Calcular el error estándar de la media (SEM)\n",
    "error_estandar = sem(salarios_por_hora)\n",
    "\n",
    "# Definir el nivel de confianza (95%)\n",
    "nivel_confianza = 0.95\n",
    "\n",
    "# Calcular los grados de libertad\n",
    "grados_libertad = len(salarios_por_hora) - 1\n",
    "\n",
    "# Calcular el intervalo de confianza\n",
    "intervalo_confianza = t.interval(nivel_confianza, df=grados_libertad, loc=media_muestra, scale=error_estandar)\n",
    "\n",
    "# Mostrar el intervalo de confianza\n",
    "print(f\"Intervalo de confianza del {nivel_confianza * 100}% para el salario por hora medio: {intervalo_confianza}\")"
   ]
  },
  {
   "cell_type": "markdown",
   "metadata": {},
   "source": [
    "# Reto 4 - Pruebas de Hipótesis de Proporciones\n",
    "\n",
    "Otro tipo de prueba de una muestra es una prueba de hipótesis de proporciones. En esta prueba, examinamos si la proporción de un grupo en nuestra muestra es significativamente diferente de una fracción.\n",
    "\n",
    "Puedes leer más sobre las pruebas de proporción de una muestra [aquí](http://sphweb.bumc.bu.edu/otlt/MPH-Modules/BS/SAS/SAS6-CategoricalData/SAS6-CategoricalData2.html).\n",
    "\n",
    "En la celda a continuación, utiliza la función `proportions_ztest` de `statsmodels` para realizar una prueba de hipótesis que determinará si el número de salarios por hora en la Ciudad de Chicago es significativamente diferente del 25% en el nivel de confianza del 95%."
   ]
  },
  {
   "cell_type": "markdown",
   "metadata": {},
   "source": [
    "* H1: El número de salarios por hora en la Ciudad de Chicago es significativamente diferente del 25% del nivel de confianza del 95%.\n",
    "* H0: El número de salarios por hora en la Ciudad de Chicago NO es significativamente diferente del 25% del nivel de confianza del 95%."
   ]
  },
  {
   "cell_type": "code",
   "execution_count": 54,
   "metadata": {},
   "outputs": [
    {
     "name": "stdout",
     "output_type": "stream",
     "text": [
      "Estadística Z: inf\n",
      "Valor P: 0.0\n",
      "Se rechaza la hipótesis nula <> la proporción de salarios por hora es significativamente diferente del 25%.\n"
     ]
    }
   ],
   "source": [
    "# Parámetros para la prueba de proporciones\n",
    "count = len(salarios_por_hora) # Número de éxitos en la muestra (en este caso, trabajadores por hora).\n",
    "nobs = len(salarios_por_hora)   # Número total de observaciones en la muestra.\n",
    "value = 0.25  # Valor del 25%\n",
    "\n",
    "# hipótesis de proporciones\n",
    "z_statistic, p_value = proportions_ztest(count, nobs, value)\n",
    "\n",
    "# Mostrar los resultados\n",
    "print(f\"Estadística Z: {z_statistic}\")\n",
    "print(f\"Valor P: {p_value}\")\n",
    "\n",
    "if p_value < 0.05:\n",
    "    print(\"Se rechaza la hipótesis nula <> la proporción de salarios por hora es significativamente diferente del 25%.\")\n",
    "else:\n",
    "    print(\"No se rechaza la hipótesis nula <> no hay suficiente evidencia para afirmar que la proporción de salarios por hora es diferente del 25%.\")"
   ]
  }
 ],
 "metadata": {
  "kernelspec": {
   "display_name": "Python 3 (ipykernel)",
   "language": "python",
   "name": "python3"
  },
  "language_info": {
   "codemirror_mode": {
    "name": "ipython",
    "version": 3
   },
   "file_extension": ".py",
   "mimetype": "text/x-python",
   "name": "python",
   "nbconvert_exporter": "python",
   "pygments_lexer": "ipython3",
   "version": "3.12.4"
  }
 },
 "nbformat": 4,
 "nbformat_minor": 2
}
