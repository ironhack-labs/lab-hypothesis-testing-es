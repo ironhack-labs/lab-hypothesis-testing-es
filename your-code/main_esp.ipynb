{
  "cells": [
    {
      "cell_type": "markdown",
      "metadata": {
        "id": "-9Y4zJsOB3UR"
      },
      "source": [
        "# Antes de empezar:\n",
        "- Lee el archivo README.md\n",
        "- Comenta tanto como puedas y utiliza los recursos (archivo README.md)\n",
        "- ¡Feliz aprendizaje!"
      ]
    },
    {
      "cell_type": "code",
      "execution_count": 3,
      "metadata": {
        "id": "FJdLLK7AB3UV"
      },
      "outputs": [],
      "source": [
        "# import numpy and pandas\n",
        "import pandas as pd\n",
        "import numpy as np\n",
        "from scipy.stats import trim_mean, mode, skew, gaussian_kde, pearsonr, spearmanr, beta\n",
        "from statsmodels.stats.weightstats import ztest as ztest\n",
        "\n",
        "from scipy.stats import ttest_ind, norm, t\n",
        "from scipy.stats import f_oneway\n",
        "from scipy.stats import sem"
      ]
    },
    {
      "cell_type": "code",
      "source": [
        "from google.colab import drive\n",
        "drive.mount('/content/drive')"
      ],
      "metadata": {
        "colab": {
          "base_uri": "https://localhost:8080/"
        },
        "id": "bsMpWB5wP5Gp",
        "outputId": "acdc4b82-6edf-4e16-98e8-fba083d4af4f"
      },
      "execution_count": 4,
      "outputs": [
        {
          "output_type": "stream",
          "name": "stdout",
          "text": [
            "Mounted at /content/drive\n"
          ]
        }
      ]
    },
    {
      "cell_type": "markdown",
      "metadata": {
        "id": "V95omCZdB3Ub"
      },
      "source": [
        "# Reto 1 - Explorando los Datos\n",
        "\n",
        "En este reto, examinaremos todos los salarios de los empleados de la Ciudad de Chicago. Comenzaremos cargando el conjunto de datos y examinando su contenido."
      ]
    },
    {
      "cell_type": "code",
      "execution_count": 7,
      "metadata": {
        "id": "oZtx2hxqB3Uc"
      },
      "outputs": [],
      "source": [
        "ruta_principal = \"/content/drive/MyDrive/IronHack/\"\n",
        "salaries = pd.read_csv(ruta_principal + \"Current_Employee_Names__Salaries__and_Position_Titles.csv\")"
      ]
    },
    {
      "cell_type": "markdown",
      "metadata": {
        "id": "Mf53PVfHB3Ue"
      },
      "source": [
        "Examina el conjunto de datos `salaries` utilizando la función `head` que se muestra a continuación."
      ]
    },
    {
      "cell_type": "code",
      "execution_count": 8,
      "metadata": {
        "colab": {
          "base_uri": "https://localhost:8080/",
          "height": 206
        },
        "id": "ieRRQ7qYB3Uf",
        "outputId": "3a559f45-d685-48d0-b9e6-845fa60f3790"
      },
      "outputs": [
        {
          "output_type": "execute_result",
          "data": {
            "text/plain": [
              "                  Name                              Job Titles  \\\n",
              "0    AARON,  JEFFERY M                                SERGEANT   \n",
              "1      AARON,  KARINA   POLICE OFFICER (ASSIGNED AS DETECTIVE)   \n",
              "2  AARON,  KIMBERLEI R                CHIEF CONTRACT EXPEDITER   \n",
              "3  ABAD JR,  VICENTE M                       CIVIL ENGINEER IV   \n",
              "4    ABASCAL,  REECE E             TRAFFIC CONTROL AIDE-HOURLY   \n",
              "\n",
              "         Department Full or Part-Time Salary or Hourly  Typical Hours  \\\n",
              "0            POLICE                 F           Salary            NaN   \n",
              "1            POLICE                 F           Salary            NaN   \n",
              "2  GENERAL SERVICES                 F           Salary            NaN   \n",
              "3       WATER MGMNT                 F           Salary            NaN   \n",
              "4              OEMC                 P           Hourly           20.0   \n",
              "\n",
              "   Annual Salary  Hourly Rate  \n",
              "0       101442.0          NaN  \n",
              "1        94122.0          NaN  \n",
              "2       101592.0          NaN  \n",
              "3       110064.0          NaN  \n",
              "4            NaN        19.86  "
            ],
            "text/html": [
              "\n",
              "  <div id=\"df-a275da0e-4719-494b-9f65-060104fede79\" class=\"colab-df-container\">\n",
              "    <div>\n",
              "<style scoped>\n",
              "    .dataframe tbody tr th:only-of-type {\n",
              "        vertical-align: middle;\n",
              "    }\n",
              "\n",
              "    .dataframe tbody tr th {\n",
              "        vertical-align: top;\n",
              "    }\n",
              "\n",
              "    .dataframe thead th {\n",
              "        text-align: right;\n",
              "    }\n",
              "</style>\n",
              "<table border=\"1\" class=\"dataframe\">\n",
              "  <thead>\n",
              "    <tr style=\"text-align: right;\">\n",
              "      <th></th>\n",
              "      <th>Name</th>\n",
              "      <th>Job Titles</th>\n",
              "      <th>Department</th>\n",
              "      <th>Full or Part-Time</th>\n",
              "      <th>Salary or Hourly</th>\n",
              "      <th>Typical Hours</th>\n",
              "      <th>Annual Salary</th>\n",
              "      <th>Hourly Rate</th>\n",
              "    </tr>\n",
              "  </thead>\n",
              "  <tbody>\n",
              "    <tr>\n",
              "      <th>0</th>\n",
              "      <td>AARON,  JEFFERY M</td>\n",
              "      <td>SERGEANT</td>\n",
              "      <td>POLICE</td>\n",
              "      <td>F</td>\n",
              "      <td>Salary</td>\n",
              "      <td>NaN</td>\n",
              "      <td>101442.0</td>\n",
              "      <td>NaN</td>\n",
              "    </tr>\n",
              "    <tr>\n",
              "      <th>1</th>\n",
              "      <td>AARON,  KARINA</td>\n",
              "      <td>POLICE OFFICER (ASSIGNED AS DETECTIVE)</td>\n",
              "      <td>POLICE</td>\n",
              "      <td>F</td>\n",
              "      <td>Salary</td>\n",
              "      <td>NaN</td>\n",
              "      <td>94122.0</td>\n",
              "      <td>NaN</td>\n",
              "    </tr>\n",
              "    <tr>\n",
              "      <th>2</th>\n",
              "      <td>AARON,  KIMBERLEI R</td>\n",
              "      <td>CHIEF CONTRACT EXPEDITER</td>\n",
              "      <td>GENERAL SERVICES</td>\n",
              "      <td>F</td>\n",
              "      <td>Salary</td>\n",
              "      <td>NaN</td>\n",
              "      <td>101592.0</td>\n",
              "      <td>NaN</td>\n",
              "    </tr>\n",
              "    <tr>\n",
              "      <th>3</th>\n",
              "      <td>ABAD JR,  VICENTE M</td>\n",
              "      <td>CIVIL ENGINEER IV</td>\n",
              "      <td>WATER MGMNT</td>\n",
              "      <td>F</td>\n",
              "      <td>Salary</td>\n",
              "      <td>NaN</td>\n",
              "      <td>110064.0</td>\n",
              "      <td>NaN</td>\n",
              "    </tr>\n",
              "    <tr>\n",
              "      <th>4</th>\n",
              "      <td>ABASCAL,  REECE E</td>\n",
              "      <td>TRAFFIC CONTROL AIDE-HOURLY</td>\n",
              "      <td>OEMC</td>\n",
              "      <td>P</td>\n",
              "      <td>Hourly</td>\n",
              "      <td>20.0</td>\n",
              "      <td>NaN</td>\n",
              "      <td>19.86</td>\n",
              "    </tr>\n",
              "  </tbody>\n",
              "</table>\n",
              "</div>\n",
              "    <div class=\"colab-df-buttons\">\n",
              "\n",
              "  <div class=\"colab-df-container\">\n",
              "    <button class=\"colab-df-convert\" onclick=\"convertToInteractive('df-a275da0e-4719-494b-9f65-060104fede79')\"\n",
              "            title=\"Convert this dataframe to an interactive table.\"\n",
              "            style=\"display:none;\">\n",
              "\n",
              "  <svg xmlns=\"http://www.w3.org/2000/svg\" height=\"24px\" viewBox=\"0 -960 960 960\">\n",
              "    <path d=\"M120-120v-720h720v720H120Zm60-500h600v-160H180v160Zm220 220h160v-160H400v160Zm0 220h160v-160H400v160ZM180-400h160v-160H180v160Zm440 0h160v-160H620v160ZM180-180h160v-160H180v160Zm440 0h160v-160H620v160Z\"/>\n",
              "  </svg>\n",
              "    </button>\n",
              "\n",
              "  <style>\n",
              "    .colab-df-container {\n",
              "      display:flex;\n",
              "      gap: 12px;\n",
              "    }\n",
              "\n",
              "    .colab-df-convert {\n",
              "      background-color: #E8F0FE;\n",
              "      border: none;\n",
              "      border-radius: 50%;\n",
              "      cursor: pointer;\n",
              "      display: none;\n",
              "      fill: #1967D2;\n",
              "      height: 32px;\n",
              "      padding: 0 0 0 0;\n",
              "      width: 32px;\n",
              "    }\n",
              "\n",
              "    .colab-df-convert:hover {\n",
              "      background-color: #E2EBFA;\n",
              "      box-shadow: 0px 1px 2px rgba(60, 64, 67, 0.3), 0px 1px 3px 1px rgba(60, 64, 67, 0.15);\n",
              "      fill: #174EA6;\n",
              "    }\n",
              "\n",
              "    .colab-df-buttons div {\n",
              "      margin-bottom: 4px;\n",
              "    }\n",
              "\n",
              "    [theme=dark] .colab-df-convert {\n",
              "      background-color: #3B4455;\n",
              "      fill: #D2E3FC;\n",
              "    }\n",
              "\n",
              "    [theme=dark] .colab-df-convert:hover {\n",
              "      background-color: #434B5C;\n",
              "      box-shadow: 0px 1px 3px 1px rgba(0, 0, 0, 0.15);\n",
              "      filter: drop-shadow(0px 1px 2px rgba(0, 0, 0, 0.3));\n",
              "      fill: #FFFFFF;\n",
              "    }\n",
              "  </style>\n",
              "\n",
              "    <script>\n",
              "      const buttonEl =\n",
              "        document.querySelector('#df-a275da0e-4719-494b-9f65-060104fede79 button.colab-df-convert');\n",
              "      buttonEl.style.display =\n",
              "        google.colab.kernel.accessAllowed ? 'block' : 'none';\n",
              "\n",
              "      async function convertToInteractive(key) {\n",
              "        const element = document.querySelector('#df-a275da0e-4719-494b-9f65-060104fede79');\n",
              "        const dataTable =\n",
              "          await google.colab.kernel.invokeFunction('convertToInteractive',\n",
              "                                                    [key], {});\n",
              "        if (!dataTable) return;\n",
              "\n",
              "        const docLinkHtml = 'Like what you see? Visit the ' +\n",
              "          '<a target=\"_blank\" href=https://colab.research.google.com/notebooks/data_table.ipynb>data table notebook</a>'\n",
              "          + ' to learn more about interactive tables.';\n",
              "        element.innerHTML = '';\n",
              "        dataTable['output_type'] = 'display_data';\n",
              "        await google.colab.output.renderOutput(dataTable, element);\n",
              "        const docLink = document.createElement('div');\n",
              "        docLink.innerHTML = docLinkHtml;\n",
              "        element.appendChild(docLink);\n",
              "      }\n",
              "    </script>\n",
              "  </div>\n",
              "\n",
              "\n",
              "<div id=\"df-1cf7b6c7-482f-49e6-8a67-3153418fcb41\">\n",
              "  <button class=\"colab-df-quickchart\" onclick=\"quickchart('df-1cf7b6c7-482f-49e6-8a67-3153418fcb41')\"\n",
              "            title=\"Suggest charts\"\n",
              "            style=\"display:none;\">\n",
              "\n",
              "<svg xmlns=\"http://www.w3.org/2000/svg\" height=\"24px\"viewBox=\"0 0 24 24\"\n",
              "     width=\"24px\">\n",
              "    <g>\n",
              "        <path d=\"M19 3H5c-1.1 0-2 .9-2 2v14c0 1.1.9 2 2 2h14c1.1 0 2-.9 2-2V5c0-1.1-.9-2-2-2zM9 17H7v-7h2v7zm4 0h-2V7h2v10zm4 0h-2v-4h2v4z\"/>\n",
              "    </g>\n",
              "</svg>\n",
              "  </button>\n",
              "\n",
              "<style>\n",
              "  .colab-df-quickchart {\n",
              "      --bg-color: #E8F0FE;\n",
              "      --fill-color: #1967D2;\n",
              "      --hover-bg-color: #E2EBFA;\n",
              "      --hover-fill-color: #174EA6;\n",
              "      --disabled-fill-color: #AAA;\n",
              "      --disabled-bg-color: #DDD;\n",
              "  }\n",
              "\n",
              "  [theme=dark] .colab-df-quickchart {\n",
              "      --bg-color: #3B4455;\n",
              "      --fill-color: #D2E3FC;\n",
              "      --hover-bg-color: #434B5C;\n",
              "      --hover-fill-color: #FFFFFF;\n",
              "      --disabled-bg-color: #3B4455;\n",
              "      --disabled-fill-color: #666;\n",
              "  }\n",
              "\n",
              "  .colab-df-quickchart {\n",
              "    background-color: var(--bg-color);\n",
              "    border: none;\n",
              "    border-radius: 50%;\n",
              "    cursor: pointer;\n",
              "    display: none;\n",
              "    fill: var(--fill-color);\n",
              "    height: 32px;\n",
              "    padding: 0;\n",
              "    width: 32px;\n",
              "  }\n",
              "\n",
              "  .colab-df-quickchart:hover {\n",
              "    background-color: var(--hover-bg-color);\n",
              "    box-shadow: 0 1px 2px rgba(60, 64, 67, 0.3), 0 1px 3px 1px rgba(60, 64, 67, 0.15);\n",
              "    fill: var(--button-hover-fill-color);\n",
              "  }\n",
              "\n",
              "  .colab-df-quickchart-complete:disabled,\n",
              "  .colab-df-quickchart-complete:disabled:hover {\n",
              "    background-color: var(--disabled-bg-color);\n",
              "    fill: var(--disabled-fill-color);\n",
              "    box-shadow: none;\n",
              "  }\n",
              "\n",
              "  .colab-df-spinner {\n",
              "    border: 2px solid var(--fill-color);\n",
              "    border-color: transparent;\n",
              "    border-bottom-color: var(--fill-color);\n",
              "    animation:\n",
              "      spin 1s steps(1) infinite;\n",
              "  }\n",
              "\n",
              "  @keyframes spin {\n",
              "    0% {\n",
              "      border-color: transparent;\n",
              "      border-bottom-color: var(--fill-color);\n",
              "      border-left-color: var(--fill-color);\n",
              "    }\n",
              "    20% {\n",
              "      border-color: transparent;\n",
              "      border-left-color: var(--fill-color);\n",
              "      border-top-color: var(--fill-color);\n",
              "    }\n",
              "    30% {\n",
              "      border-color: transparent;\n",
              "      border-left-color: var(--fill-color);\n",
              "      border-top-color: var(--fill-color);\n",
              "      border-right-color: var(--fill-color);\n",
              "    }\n",
              "    40% {\n",
              "      border-color: transparent;\n",
              "      border-right-color: var(--fill-color);\n",
              "      border-top-color: var(--fill-color);\n",
              "    }\n",
              "    60% {\n",
              "      border-color: transparent;\n",
              "      border-right-color: var(--fill-color);\n",
              "    }\n",
              "    80% {\n",
              "      border-color: transparent;\n",
              "      border-right-color: var(--fill-color);\n",
              "      border-bottom-color: var(--fill-color);\n",
              "    }\n",
              "    90% {\n",
              "      border-color: transparent;\n",
              "      border-bottom-color: var(--fill-color);\n",
              "    }\n",
              "  }\n",
              "</style>\n",
              "\n",
              "  <script>\n",
              "    async function quickchart(key) {\n",
              "      const quickchartButtonEl =\n",
              "        document.querySelector('#' + key + ' button');\n",
              "      quickchartButtonEl.disabled = true;  // To prevent multiple clicks.\n",
              "      quickchartButtonEl.classList.add('colab-df-spinner');\n",
              "      try {\n",
              "        const charts = await google.colab.kernel.invokeFunction(\n",
              "            'suggestCharts', [key], {});\n",
              "      } catch (error) {\n",
              "        console.error('Error during call to suggestCharts:', error);\n",
              "      }\n",
              "      quickchartButtonEl.classList.remove('colab-df-spinner');\n",
              "      quickchartButtonEl.classList.add('colab-df-quickchart-complete');\n",
              "    }\n",
              "    (() => {\n",
              "      let quickchartButtonEl =\n",
              "        document.querySelector('#df-1cf7b6c7-482f-49e6-8a67-3153418fcb41 button');\n",
              "      quickchartButtonEl.style.display =\n",
              "        google.colab.kernel.accessAllowed ? 'block' : 'none';\n",
              "    })();\n",
              "  </script>\n",
              "</div>\n",
              "\n",
              "    </div>\n",
              "  </div>\n"
            ],
            "application/vnd.google.colaboratory.intrinsic+json": {
              "type": "dataframe",
              "variable_name": "salaries",
              "summary": "{\n  \"name\": \"salaries\",\n  \"rows\": 33183,\n  \"fields\": [\n    {\n      \"column\": \"Name\",\n      \"properties\": {\n        \"dtype\": \"string\",\n        \"num_unique_values\": 32880,\n        \"samples\": [\n          \"FORRESTAL,  NICHOLAS P\",\n          \"O CONNELL,  MATTHEW J\",\n          \"CARTAGENA,  WANDA I\"\n        ],\n        \"semantic_type\": \"\",\n        \"description\": \"\"\n      }\n    },\n    {\n      \"column\": \"Job Titles\",\n      \"properties\": {\n        \"dtype\": \"category\",\n        \"num_unique_values\": 1111,\n        \"samples\": [\n          \"FOREMAN OF CEMENT FINISHERS\",\n          \"CERTIFIED MEDICAL ASST\",\n          \"CUSTODIAL WORKER\"\n        ],\n        \"semantic_type\": \"\",\n        \"description\": \"\"\n      }\n    },\n    {\n      \"column\": \"Department\",\n      \"properties\": {\n        \"dtype\": \"category\",\n        \"num_unique_values\": 35,\n        \"samples\": [\n          \"BUDGET & MGMT\",\n          \"BUSINESS AFFAIRS\",\n          \"HUMAN RESOURCES\"\n        ],\n        \"semantic_type\": \"\",\n        \"description\": \"\"\n      }\n    },\n    {\n      \"column\": \"Full or Part-Time\",\n      \"properties\": {\n        \"dtype\": \"category\",\n        \"num_unique_values\": 2,\n        \"samples\": [\n          \"P\",\n          \"F\"\n        ],\n        \"semantic_type\": \"\",\n        \"description\": \"\"\n      }\n    },\n    {\n      \"column\": \"Salary or Hourly\",\n      \"properties\": {\n        \"dtype\": \"category\",\n        \"num_unique_values\": 2,\n        \"samples\": [\n          \"Hourly\",\n          \"Salary\"\n        ],\n        \"semantic_type\": \"\",\n        \"description\": \"\"\n      }\n    },\n    {\n      \"column\": \"Typical Hours\",\n      \"properties\": {\n        \"dtype\": \"number\",\n        \"std\": 9.25207690657732,\n        \"min\": 10.0,\n        \"max\": 40.0,\n        \"num_unique_values\": 4,\n        \"samples\": [\n          40.0,\n          10.0\n        ],\n        \"semantic_type\": \"\",\n        \"description\": \"\"\n      }\n    },\n    {\n      \"column\": \"Annual Salary\",\n      \"properties\": {\n        \"dtype\": \"number\",\n        \"std\": 21041.354601627885,\n        \"min\": 7200.0,\n        \"max\": 300000.0,\n        \"num_unique_values\": 1000,\n        \"samples\": [\n          59976.0,\n          56928.0\n        ],\n        \"semantic_type\": \"\",\n        \"description\": \"\"\n      }\n    },\n    {\n      \"column\": \"Hourly Rate\",\n      \"properties\": {\n        \"dtype\": \"number\",\n        \"std\": 12.11257268427681,\n        \"min\": 2.65,\n        \"max\": 109.0,\n        \"num_unique_values\": 167,\n        \"samples\": [\n          20.24,\n          10.5\n        ],\n        \"semantic_type\": \"\",\n        \"description\": \"\"\n      }\n    }\n  ]\n}"
            }
          },
          "metadata": {},
          "execution_count": 8
        }
      ],
      "source": [
        "salaries.head()"
      ]
    },
    {
      "cell_type": "code",
      "source": [
        "salaries[\"Salary or Hourly\"].value_counts()"
      ],
      "metadata": {
        "colab": {
          "base_uri": "https://localhost:8080/",
          "height": 178
        },
        "id": "0oFQ0DkcRaJW",
        "outputId": "319c24ad-61b7-45ec-ecd0-90da451f95d8"
      },
      "execution_count": 9,
      "outputs": [
        {
          "output_type": "execute_result",
          "data": {
            "text/plain": [
              "Salary or Hourly\n",
              "Salary    25161\n",
              "Hourly     8022\n",
              "Name: count, dtype: int64"
            ],
            "text/html": [
              "<div>\n",
              "<style scoped>\n",
              "    .dataframe tbody tr th:only-of-type {\n",
              "        vertical-align: middle;\n",
              "    }\n",
              "\n",
              "    .dataframe tbody tr th {\n",
              "        vertical-align: top;\n",
              "    }\n",
              "\n",
              "    .dataframe thead th {\n",
              "        text-align: right;\n",
              "    }\n",
              "</style>\n",
              "<table border=\"1\" class=\"dataframe\">\n",
              "  <thead>\n",
              "    <tr style=\"text-align: right;\">\n",
              "      <th></th>\n",
              "      <th>count</th>\n",
              "    </tr>\n",
              "    <tr>\n",
              "      <th>Salary or Hourly</th>\n",
              "      <th></th>\n",
              "    </tr>\n",
              "  </thead>\n",
              "  <tbody>\n",
              "    <tr>\n",
              "      <th>Salary</th>\n",
              "      <td>25161</td>\n",
              "    </tr>\n",
              "    <tr>\n",
              "      <th>Hourly</th>\n",
              "      <td>8022</td>\n",
              "    </tr>\n",
              "  </tbody>\n",
              "</table>\n",
              "</div><br><label><b>dtype:</b> int64</label>"
            ]
          },
          "metadata": {},
          "execution_count": 9
        }
      ]
    },
    {
      "cell_type": "code",
      "source": [
        "salaries[salaries[\"Salary or Hourly\"]==\"Hourly\"].info()"
      ],
      "metadata": {
        "colab": {
          "base_uri": "https://localhost:8080/"
        },
        "id": "s1etoE7-RaFv",
        "outputId": "b2afee39-9dd6-42b4-c260-a91908378e64"
      },
      "execution_count": 10,
      "outputs": [
        {
          "output_type": "stream",
          "name": "stdout",
          "text": [
            "<class 'pandas.core.frame.DataFrame'>\n",
            "Index: 8022 entries, 4 to 33175\n",
            "Data columns (total 8 columns):\n",
            " #   Column             Non-Null Count  Dtype  \n",
            "---  ------             --------------  -----  \n",
            " 0   Name               8022 non-null   object \n",
            " 1   Job Titles         8022 non-null   object \n",
            " 2   Department         8022 non-null   object \n",
            " 3   Full or Part-Time  8022 non-null   object \n",
            " 4   Salary or Hourly   8022 non-null   object \n",
            " 5   Typical Hours      8022 non-null   float64\n",
            " 6   Annual Salary      0 non-null      float64\n",
            " 7   Hourly Rate        8022 non-null   float64\n",
            "dtypes: float64(3), object(5)\n",
            "memory usage: 564.0+ KB\n"
          ]
        }
      ]
    },
    {
      "cell_type": "code",
      "source": [
        "salaries[salaries[\"Salary or Hourly\"]==\"Salary\"].info()"
      ],
      "metadata": {
        "colab": {
          "base_uri": "https://localhost:8080/"
        },
        "id": "xK57l1xtRaC9",
        "outputId": "2090a80a-ed50-4d59-bfc7-3f26108ea943"
      },
      "execution_count": 11,
      "outputs": [
        {
          "output_type": "stream",
          "name": "stdout",
          "text": [
            "<class 'pandas.core.frame.DataFrame'>\n",
            "Index: 25161 entries, 0 to 33182\n",
            "Data columns (total 8 columns):\n",
            " #   Column             Non-Null Count  Dtype  \n",
            "---  ------             --------------  -----  \n",
            " 0   Name               25161 non-null  object \n",
            " 1   Job Titles         25161 non-null  object \n",
            " 2   Department         25161 non-null  object \n",
            " 3   Full or Part-Time  25161 non-null  object \n",
            " 4   Salary or Hourly   25161 non-null  object \n",
            " 5   Typical Hours      0 non-null      float64\n",
            " 6   Annual Salary      25161 non-null  float64\n",
            " 7   Hourly Rate        0 non-null      float64\n",
            "dtypes: float64(3), object(5)\n",
            "memory usage: 1.7+ MB\n"
          ]
        }
      ]
    },
    {
      "cell_type": "code",
      "source": [
        "print(\"Con las dos celdas anteriores descubrimos que no hay valores nulos individuales.\")\n",
        "print(\"• Los nulos provienen de que HourlyRate y Typical Hours son nulos para los individuos que cobran salario\")\n",
        "print(\"• Los nulos provienen de que Annual Salary son nulos para los individuos que cobran por horas\")"
      ],
      "metadata": {
        "colab": {
          "base_uri": "https://localhost:8080/"
        },
        "id": "W229NK2sRaAm",
        "outputId": "f240bc23-8755-4a9c-a11f-276c9b78af42"
      },
      "execution_count": 12,
      "outputs": [
        {
          "output_type": "stream",
          "name": "stdout",
          "text": [
            "Con las dos celdas anteriores descubrimos que no hay valores nulos individuales.\n",
            "• Los nulos provienen de que HourlyRate y Typical Hours son nulos para los individuos que cobran salario\n",
            "• Los nulos provienen de que Annual Salary son nulos para los individuos que cobran por horas\n"
          ]
        }
      ]
    },
    {
      "cell_type": "markdown",
      "metadata": {
        "id": "xvQgysFHB3Uf"
      },
      "source": [
        "# Reto 2 - Pruebas de Hipótesis\n",
        "\n",
        "En esta sección del laboratorio, vamos a probar si el salario por hora de todos los trabajadores por hora es significativamente diferente de $30/hora. Importa la función correcta para la prueba de una muestra desde scipy y realiza la prueba de hipótesis para un intervalo de confianza de dos lados del 95%."
      ]
    },
    {
      "cell_type": "code",
      "execution_count": 19,
      "metadata": {
        "colab": {
          "base_uri": "https://localhost:8080/"
        },
        "id": "Vekflo-WB3Ug",
        "outputId": "d859f52f-4376-4ec8-e6c9-3e33df408f45"
      },
      "outputs": [
        {
          "output_type": "stream",
          "name": "stdout",
          "text": [
            "Hipótesis nula (𝐻0): El salario promedio por hora es igual a $30/hora (μ=30).\n",
            "Hipótesis alternativa (𝐻1): El salario promedio por hora es diferente de $30/hora (𝜇≠30).\n",
            "\n",
            "El estadístico t es 20.6198057854942 y el p valor es 4.3230240486229894e-92.\n",
            "Rechazamos la hipótesis nula. El salario promedio por hora es significativamente diferente de $30/hora.\n"
          ]
        }
      ],
      "source": [
        "from scipy.stats import ttest_1samp\n",
        "\n",
        "# Se seleccionan los salarios por hora\n",
        "salarios = salaries[salaries[\"Salary or Hourly\"]==\"Hourly\"][\"Hourly Rate\"]\n",
        "\n",
        "# Se determinan las hipótesis nula y alternativa\n",
        "print(\"Hipótesis nula (𝐻0): El salario promedio por hora es igual a $30/hora (μ=30).\")\n",
        "print(\"Hipótesis alternativa (𝐻1): El salario promedio por hora es diferente de $30/hora (𝜇≠30).\\n\")\n",
        "\n",
        "# Prueba t\n",
        "resultado = ttest_1samp(salarios, 30)\n",
        "\n",
        "# Resultado de la prueba\n",
        "print(f\"El estadístico t es {resultado.statistic} y el p valor es {resultado.pvalue}.\")\n",
        "\n",
        "# La prueba t se realiza con un nivel de significancia del 5% (equivalente a un intervalo de confianza del 95% para una prueba bilateral).\n",
        "if resultado.pvalue < 1-0.95:\n",
        "    print(\"Rechazamos la hipótesis nula. El salario promedio por hora es significativamente diferente de $30/hora.\")\n",
        "else:\n",
        "    print(\"No rechazamos la hipótesis nula. No hay suficiente evidencia para concluir que el salario promedio por hora sea significativamente diferente de $30/hora.\")"
      ]
    },
    {
      "cell_type": "markdown",
      "source": [
        "El **estadístico t** se calcula como:\n",
        "\n",
        "$$t = \\frac{\\bar{X} - \\mu}{\\sigma / \\sqrt{N}} $$\n",
        "\n",
        "Siendo:\n",
        "\n",
        "* $\\bar{X}$: la media de la muestra,\n",
        "* $\\mu$: el valor de referencia (en este caso, $30/hora),\n",
        "\n",
        "* $\\sigma$: la desviación estándar de la muestra,\n",
        "* $N$: el tamaño de la muestra.\n",
        "\n"
      ],
      "metadata": {
        "id": "cLNTIAfpUYr4"
      }
    },
    {
      "cell_type": "markdown",
      "metadata": {
        "id": "4B11Y9_fB3Ug"
      },
      "source": [
        "# Reto 3 - Construyendo Intervalos de Confianza\n",
        "\n",
        "Aunque probar nuestra hipótesis es una excelente manera de obtener evidencia empírica para aceptar o rechazar la hipótesis, otra forma de recopilar evidencia es creando un intervalo de confianza. Un intervalo de confianza nos brinda información sobre la media verdadera de la población. Por lo tanto, para un intervalo de confianza del 95%, estamos seguros en un 95% de que la media de la población se encuentra dentro del intervalo de confianza.\n",
        "\n",
        "Para leer más sobre los intervalos de confianza, haz clic [aquí](https://es.wikipedia.org/wiki/Intervalo_de_confianza).\n",
        "\n",
        "En la celda a continuación, construiremos un intervalo de confianza del 95% para el salario por hora medio de todos los trabajadores por hora.\n",
        "\n",
        "El intervalo de confianza se calcula en SciPy utilizando la función `t.interval`. Puedes leer más sobre esta función [aquí](https://docs.scipy.org/doc/scipy-0.14.0/reference/generated/scipy.stats.t.html).\n",
        "\n",
        "Para calcular el intervalo de confianza del salario por hora, usa 0.95 para el nivel de confianza, el número de filas - 1 para los grados de libertad, la media de la muestra para el parámetro de ubicación y el error estándar para la escala. El error estándar se puede calcular utilizando [esta](https://docs.scipy.org/doc/scipy/reference/generated/scipy.stats.sem.html) función en SciPy."
      ]
    },
    {
      "cell_type": "code",
      "execution_count": 22,
      "metadata": {
        "colab": {
          "base_uri": "https://localhost:8080/"
        },
        "id": "zeYl78RkB3Uh",
        "outputId": "dd155928-06a6-4246-ca24-49a715a49b18"
      },
      "outputs": [
        {
          "output_type": "execute_result",
          "data": {
            "text/plain": [
              "(32.52345834488425, 33.05365708767623)"
            ]
          },
          "metadata": {},
          "execution_count": 22
        }
      ],
      "source": [
        "from scipy import stats\n",
        "\n",
        "# Se seleccionan los salarios por hora\n",
        "salarios = salaries[salaries[\"Salary or Hourly\"]==\"Hourly\"][\"Hourly Rate\"]\n",
        "\n",
        "# Parámetros de la muestra\n",
        "media = np.mean(salarios)\n",
        "sem = stats.sem(salarios)\n",
        "N = len(salarios)\n",
        "grados_libertad = N - 1\n",
        "\n",
        "# Calcular intervalo de confianza\n",
        "intervalo_confianza = stats.t.interval(\n",
        "    confidence=0.95,  # Nivel de confianza\n",
        "    df=grados_libertad,\n",
        "    loc=media,\n",
        "    scale=sem  # Error estándar de la media\n",
        ")\n",
        "\n",
        "intervalo_confianza"
      ]
    },
    {
      "cell_type": "code",
      "source": [
        "print(f\"En un 95% de confianza podemos decir que el salario por hora se encuentra entre {round(intervalo_confianza[0],2)}$ y {round(intervalo_confianza[1],2)}$.\")"
      ],
      "metadata": {
        "colab": {
          "base_uri": "https://localhost:8080/"
        },
        "id": "7cL43wFrXxCn",
        "outputId": "bb16e9dd-376c-44b2-a4b8-27d80fd4cb12"
      },
      "execution_count": 24,
      "outputs": [
        {
          "output_type": "stream",
          "name": "stdout",
          "text": [
            "En un 95% de confianza podemos decir que el salario por hora se encuentra entre 32.52$ y 33.05$.\n"
          ]
        }
      ]
    },
    {
      "cell_type": "markdown",
      "source": [
        "El **Error Estándar de la Media** o *Standard Error of the Mean (SEM)* se calcula como:\n",
        "\n",
        "$$SEM = \\frac{\\sigma}{\\sqrt{N}} $$\n",
        "\n",
        "Siendo:\n",
        "* $\\sigma$: la desviación estándar de la muestra.\n",
        "* $N$: el tamaño de la muestra.\n"
      ],
      "metadata": {
        "id": "bWuFV9YcXMuC"
      }
    },
    {
      "cell_type": "markdown",
      "metadata": {
        "id": "nZKx0tjGB3Uk"
      },
      "source": [
        "# Reto 4 - Pruebas de Hipótesis de Proporciones\n",
        "\n",
        "Otro tipo de prueba de una muestra es una prueba de hipótesis de proporciones. En esta prueba, examinamos si la proporción de un grupo en nuestra muestra es significativamente diferente de una fracción.\n",
        "\n",
        "Puedes leer más sobre las pruebas de proporción de una muestra [aquí](http://sphweb.bumc.bu.edu/otlt/MPH-Modules/BS/SAS/SAS6-CategoricalData/SAS6-CategoricalData2.html).\n",
        "\n",
        "En la celda a continuación, utiliza la función `proportions_ztest` de `statsmodels` para realizar una prueba de hipótesis que determinará si el número de trabajadores por hora en la Ciudad de Chicago es significativamente diferente del 25% en el nivel de confianza del 95%."
      ]
    },
    {
      "cell_type": "code",
      "execution_count": 33,
      "metadata": {
        "colab": {
          "base_uri": "https://localhost:8080/"
        },
        "id": "GEjXqNXEB3Um",
        "outputId": "8492abf3-5eaa-4c0d-818b-8ceca6b19bf4"
      },
      "outputs": [
        {
          "output_type": "stream",
          "name": "stdout",
          "text": [
            "El estadístico z es -3.5099964213703005 y el p valor es 0.0004481127249057967.\n",
            "Rechazamos la hipótesis nula. Concluyendo que la proporción de trabajadores por hora en Chicago es significativamente diferente de 25%\n"
          ]
        }
      ],
      "source": [
        "from statsmodels.stats.proportion import proportions_ztest\n",
        "\n",
        "# Se seleccionan los salarios por hora\n",
        "salarios = salaries[salaries[\"Salary or Hourly\"]==\"Hourly\"][\"Hourly Rate\"]\n",
        "\n",
        "# Datos y parámetros\n",
        "total = len(salaries) # Número total trabajadores en Chicago (población observada)\n",
        "muestra = len(salarios)   # Tamaño total de la muestra por hora (muestra de los trabajadores por hora)\n",
        "diferente = 0.25\n",
        "\n",
        "# Prueba z de proporciones\n",
        "statistic, p_value = proportions_ztest(muestra, total, value=diferente)\n",
        "\n",
        "# Resultado de la prueba\n",
        "print(f\"El estadístico z es {statistic} y el p valor es {p_value}.\")\n",
        "\n",
        "# La prueba t se realiza con un nivel de significancia del 5% (equivalente a un intervalo de confianza del 95% para una prueba bilateral).\n",
        "if p_value < 1-0.95:\n",
        "    print(f\"Rechazamos la hipótesis nula. Concluyendo que la proporción de trabajadores por hora en Chicago es significativamente diferente de {int(diferente*100)}%\")\n",
        "else:\n",
        "    print(f\"No rechazamos la hipótesis nula. No hay suficiente evidencia para concluir que la proporción sea diferente de {int(diferente*100)}%.\")\n"
      ]
    },
    {
      "cell_type": "markdown",
      "source": [
        "Es el estadístico z, que mide cuántas desviaciones estándar está la proporción muestral del valor de referencia (0.25)"
      ],
      "metadata": {
        "id": "2P03W5mLa7pA"
      }
    }
  ],
  "metadata": {
    "kernelspec": {
      "display_name": "Python 3 (ipykernel)",
      "language": "python",
      "name": "python3"
    },
    "language_info": {
      "codemirror_mode": {
        "name": "ipython",
        "version": 3
      },
      "file_extension": ".py",
      "mimetype": "text/x-python",
      "name": "python",
      "nbconvert_exporter": "python",
      "pygments_lexer": "ipython3",
      "version": "3.9.13"
    },
    "colab": {
      "provenance": []
    }
  },
  "nbformat": 4,
  "nbformat_minor": 0
}